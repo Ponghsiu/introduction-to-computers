{
  "nbformat": 4,
  "nbformat_minor": 0,
  "metadata": {
    "colab": {
      "name": "Untitled2.ipynb",
      "provenance": [],
      "authorship_tag": "ABX9TyNd/l+FrHzR7wIMwQaR770f",
      "include_colab_link": true
    },
    "kernelspec": {
      "name": "python3",
      "display_name": "Python 3"
    },
    "language_info": {
      "name": "python"
    }
  },
  "cells": [
    {
      "cell_type": "markdown",
      "metadata": {
        "id": "view-in-github",
        "colab_type": "text"
      },
      "source": [
        "<a href=\"https://colab.research.google.com/github/Ponghsiu/introduction-to-computers/blob/main/0511.ipynb\" target=\"_parent\"><img src=\"https://colab.research.google.com/assets/colab-badge.svg\" alt=\"Open In Colab\"/></a>"
      ]
    },
    {
      "cell_type": "code",
      "execution_count": 1,
      "metadata": {
        "colab": {
          "base_uri": "https://localhost:8080/"
        },
        "id": "Y-utx3dFzfku",
        "outputId": "2cc9c87f-3129-4c68-a62f-a4f299765086"
      },
      "outputs": [
        {
          "output_type": "stream",
          "name": "stdout",
          "text": [
            "test\n"
          ]
        }
      ],
      "source": [
        "print(\"test\")"
      ]
    },
    {
      "cell_type": "code",
      "source": [
        "temp =float(input(\"請輸入你的體溫:\"))\n",
        "if temp>=37.5:\n",
        "  print(\"體溫過高!\")\n",
        "elif temp >=37 and temp<37.4:\n",
        "  print(\"體溫略高!\")\n",
        "elif temp<=36.9 and temp>=34:\n",
        "  print(\"體溫正常!\")\n",
        "else:\n",
        "  print(\"體溫異常，請重新測量!\")"
      ],
      "metadata": {
        "colab": {
          "base_uri": "https://localhost:8080/"
        },
        "id": "XSRAJIsDzltj",
        "outputId": "b798e363-b828-4eda-bb16-909d93483d47"
      },
      "execution_count": 2,
      "outputs": [
        {
          "output_type": "stream",
          "name": "stdout",
          "text": [
            "請輸入你的體溫:35.6\n",
            "體溫正常!\n"
          ]
        }
      ]
    },
    {
      "cell_type": "code",
      "source": [
        "money =int(input(\"請輸入購物金額:\"))\n",
        "if(money>=10000):\n",
        "  if(money>=100000):\n",
        "    print(\"八折\",money*0.8,end=\"元\\n\")\n",
        "  elif(money>=50000):\n",
        "    print(\"八五折\",money*0.85,end=\"元\\n\")\n",
        "  elif(money>=30000):\n",
        "    print(\"九折\",money*0.9,end=\"元\\n\")\n",
        "  else:\n",
        "    print(\"九五折\",money*0.95,end=\"元\\n\")\n",
        "else:\n",
        "  print(\"沒打折\",money,end=\"元\\n\")"
      ],
      "metadata": {
        "colab": {
          "base_uri": "https://localhost:8080/"
        },
        "id": "q2N478tszqGp",
        "outputId": "b8c2d76e-fef5-4e7e-da61-db5abe1df134"
      },
      "execution_count": 3,
      "outputs": [
        {
          "output_type": "stream",
          "name": "stdout",
          "text": [
            "請輸入購物金額:10000\n",
            "九五折 9500.0元\n"
          ]
        }
      ]
    },
    {
      "cell_type": "code",
      "source": [
        "score=int(input(\"請輸入成績\"))\n",
        "if(score>=60):\n",
        "  if(score>=90):\n",
        "    print(\"A\")\n",
        "  elif(score>=80):\n",
        "    print(\"B\")\n",
        "  elif(score>=70):\n",
        "    print(\"C\")\n",
        "  else:\n",
        "    print(\"D\")\n",
        "else:\n",
        "  print(\"E\")"
      ],
      "metadata": {
        "colab": {
          "base_uri": "https://localhost:8080/"
        },
        "id": "1gYHM8fhzwMQ",
        "outputId": "4ed6cf23-9540-45c8-c85b-ad39544eb5dc"
      },
      "execution_count": 4,
      "outputs": [
        {
          "output_type": "stream",
          "name": "stdout",
          "text": [
            "請輸入成績59\n",
            "E\n"
          ]
        }
      ]
    },
    {
      "cell_type": "code",
      "source": [
        "month =int(input(\"請輸入月份:\"))\n",
        "if(month<=12):\n",
        "  if(month<=5 and month>=3):\n",
        "    print(month,\"月是春天!\")\n",
        "  elif(month<=8 and month>=3):\n",
        "    print(month,\"月是夏天!\")\n",
        "  elif(month<=11 and month>=3):\n",
        "    print(month,\"月是秋天!\")\n",
        "  else:\n",
        "    print(month,\"月是冬天!\")\n",
        "else:\n",
        "  print(\"月份不在範圍內!\")"
      ],
      "metadata": {
        "colab": {
          "base_uri": "https://localhost:8080/"
        },
        "id": "66Hd-XqKzzuw",
        "outputId": "3b1cc5fa-41a5-437b-fc78-7b38a7c2f046"
      },
      "execution_count": 5,
      "outputs": [
        {
          "output_type": "stream",
          "name": "stdout",
          "text": [
            "請輸入月份:1\n",
            "1 月是冬天!\n"
          ]
        }
      ]
    },
    {
      "cell_type": "code",
      "source": [
        "m=int(input(\"請輸入今年收入淨額:\"))\n",
        "if(m>=300000):\n",
        "  if(m>=2000000):\n",
        "    print(\"付稅金額:\",m*0.3,end=\"元\\n\")\n",
        "  elif(m>=1000000):\n",
        "    print(\"付稅金額:\",m*0.21,end=\"元\\n\")\n",
        "  elif(m>=600000):\n",
        "    print(\"付稅金額:\",m*0.13,end=\"元\\n\")\n",
        "  else:\n",
        "    print(\"付稅金額:\",m*0.06,end=\"元\\n\")\n",
        "else:\n",
        "  print(\"付稅金額:\",m*0,end=\"元\\n\")"
      ],
      "metadata": {
        "colab": {
          "base_uri": "https://localhost:8080/"
        },
        "id": "h3cYE5ssz3kx",
        "outputId": "fefe7289-fe4f-4170-fc72-b7b9aeb533d2"
      },
      "execution_count": 6,
      "outputs": [
        {
          "output_type": "stream",
          "name": "stdout",
          "text": [
            "請輸入今年收入淨額:12\n",
            "付稅金額: 0元\n"
          ]
        }
      ]
    }
  ]
}